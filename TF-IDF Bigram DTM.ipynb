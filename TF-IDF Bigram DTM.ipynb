{
 "cells": [
  {
   "cell_type": "code",
   "execution_count": 136,
   "id": "ebd2cff0",
   "metadata": {},
   "outputs": [],
   "source": [
    "import pandas as pd\n",
    "import numpy as np\n",
    "from sklearn.feature_extraction.text import CountVectorizer, TfidfTransformer"
   ]
  },
  {
   "cell_type": "code",
   "execution_count": 137,
   "id": "82161a1c",
   "metadata": {},
   "outputs": [
    {
     "name": "stdout",
     "output_type": "stream",
     "text": [
      "     rating                summary  \\\n",
      "0         5      Terrific purchase   \n",
      "1         4             Delightful   \n",
      "2         5              Must buy!   \n",
      "3         5  Mind-blowing purchase   \n",
      "4         4              Very Good   \n",
      "..      ...                    ...   \n",
      "295       5         Classy product   \n",
      "296       5          Great product   \n",
      "297       5              Excellent   \n",
      "298       5               Terrific   \n",
      "299       5                Awesome   \n",
      "\n",
      "                                                review  \n",
      "0    Best Budget friendly smart tv one can buy, alt...  \n",
      "1    A nice tv to watch value for money better than...  \n",
      "2    Great tv.. just got my order within one day an...  \n",
      "3    Very good picture quality.. And sound is much ...  \n",
      "4    Great product for the price... Note: The only ...  \n",
      "..                                                 ...  \n",
      "295                                            Awesome  \n",
      "296                 Value of money nice one loved it 😊  \n",
      "297          Very nice product....You can go for it...  \n",
      "298                                  I love Flipkart 🤗  \n",
      "299                                                 Ok  \n",
      "\n",
      "[300 rows x 3 columns]\n"
     ]
    }
   ],
   "source": [
    "\n",
    "df = pd.read_csv(\"Product Details.csv\")\n",
    "print(df)\n"
   ]
  },
  {
   "cell_type": "code",
   "execution_count": 138,
   "id": "ee9a355f",
   "metadata": {},
   "outputs": [
    {
     "data": {
      "text/html": [
       "<div>\n",
       "<style scoped>\n",
       "    .dataframe tbody tr th:only-of-type {\n",
       "        vertical-align: middle;\n",
       "    }\n",
       "\n",
       "    .dataframe tbody tr th {\n",
       "        vertical-align: top;\n",
       "    }\n",
       "\n",
       "    .dataframe thead th {\n",
       "        text-align: right;\n",
       "    }\n",
       "</style>\n",
       "<table border=\"1\" class=\"dataframe\">\n",
       "  <thead>\n",
       "    <tr style=\"text-align: right;\">\n",
       "      <th></th>\n",
       "      <th>rating</th>\n",
       "      <th>summary</th>\n",
       "      <th>review</th>\n",
       "    </tr>\n",
       "  </thead>\n",
       "  <tbody>\n",
       "    <tr>\n",
       "      <th>0</th>\n",
       "      <td>5</td>\n",
       "      <td>Terrific purchase</td>\n",
       "      <td>Best Budget friendly smart tv one can buy, alt...</td>\n",
       "    </tr>\n",
       "    <tr>\n",
       "      <th>1</th>\n",
       "      <td>4</td>\n",
       "      <td>Delightful</td>\n",
       "      <td>A nice tv to watch value for money better than...</td>\n",
       "    </tr>\n",
       "    <tr>\n",
       "      <th>2</th>\n",
       "      <td>5</td>\n",
       "      <td>Must buy!</td>\n",
       "      <td>Great tv.. just got my order within one day an...</td>\n",
       "    </tr>\n",
       "    <tr>\n",
       "      <th>3</th>\n",
       "      <td>5</td>\n",
       "      <td>Mind-blowing purchase</td>\n",
       "      <td>Very good picture quality.. And sound is much ...</td>\n",
       "    </tr>\n",
       "    <tr>\n",
       "      <th>4</th>\n",
       "      <td>4</td>\n",
       "      <td>Very Good</td>\n",
       "      <td>Great product for the price... Note: The only ...</td>\n",
       "    </tr>\n",
       "  </tbody>\n",
       "</table>\n",
       "</div>"
      ],
      "text/plain": [
       "   rating                summary  \\\n",
       "0       5      Terrific purchase   \n",
       "1       4             Delightful   \n",
       "2       5              Must buy!   \n",
       "3       5  Mind-blowing purchase   \n",
       "4       4              Very Good   \n",
       "\n",
       "                                              review  \n",
       "0  Best Budget friendly smart tv one can buy, alt...  \n",
       "1  A nice tv to watch value for money better than...  \n",
       "2  Great tv.. just got my order within one day an...  \n",
       "3  Very good picture quality.. And sound is much ...  \n",
       "4  Great product for the price... Note: The only ...  "
      ]
     },
     "execution_count": 138,
     "metadata": {},
     "output_type": "execute_result"
    }
   ],
   "source": [
    "df.head()\n"
   ]
  },
  {
   "cell_type": "code",
   "execution_count": 139,
   "id": "05cef246",
   "metadata": {},
   "outputs": [
    {
     "data": {
      "text/html": [
       "<div>\n",
       "<style scoped>\n",
       "    .dataframe tbody tr th:only-of-type {\n",
       "        vertical-align: middle;\n",
       "    }\n",
       "\n",
       "    .dataframe tbody tr th {\n",
       "        vertical-align: top;\n",
       "    }\n",
       "\n",
       "    .dataframe thead th {\n",
       "        text-align: right;\n",
       "    }\n",
       "</style>\n",
       "<table border=\"1\" class=\"dataframe\">\n",
       "  <thead>\n",
       "    <tr style=\"text-align: right;\">\n",
       "      <th></th>\n",
       "      <th>rating</th>\n",
       "      <th>summary</th>\n",
       "      <th>review</th>\n",
       "    </tr>\n",
       "  </thead>\n",
       "  <tbody>\n",
       "    <tr>\n",
       "      <th>295</th>\n",
       "      <td>5</td>\n",
       "      <td>Classy product</td>\n",
       "      <td>Awesome</td>\n",
       "    </tr>\n",
       "    <tr>\n",
       "      <th>296</th>\n",
       "      <td>5</td>\n",
       "      <td>Great product</td>\n",
       "      <td>Value of money nice one loved it 😊</td>\n",
       "    </tr>\n",
       "    <tr>\n",
       "      <th>297</th>\n",
       "      <td>5</td>\n",
       "      <td>Excellent</td>\n",
       "      <td>Very nice product....You can go for it...</td>\n",
       "    </tr>\n",
       "    <tr>\n",
       "      <th>298</th>\n",
       "      <td>5</td>\n",
       "      <td>Terrific</td>\n",
       "      <td>I love Flipkart 🤗</td>\n",
       "    </tr>\n",
       "    <tr>\n",
       "      <th>299</th>\n",
       "      <td>5</td>\n",
       "      <td>Awesome</td>\n",
       "      <td>Ok</td>\n",
       "    </tr>\n",
       "  </tbody>\n",
       "</table>\n",
       "</div>"
      ],
      "text/plain": [
       "     rating         summary                                     review\n",
       "295       5  Classy product                                    Awesome\n",
       "296       5   Great product         Value of money nice one loved it 😊\n",
       "297       5       Excellent  Very nice product....You can go for it...\n",
       "298       5        Terrific                          I love Flipkart 🤗\n",
       "299       5         Awesome                                         Ok"
      ]
     },
     "execution_count": 139,
     "metadata": {},
     "output_type": "execute_result"
    }
   ],
   "source": [
    "df.tail()"
   ]
  },
  {
   "cell_type": "code",
   "execution_count": 140,
   "id": "15fa4876",
   "metadata": {},
   "outputs": [
    {
     "name": "stdout",
     "output_type": "stream",
     "text": [
      "1. picture quality: 187.734\n",
      "2. quality is: 143.690\n",
      "3. this tv: 102.343\n",
      "4. very good: 100.194\n",
      "5. sound quality: 95.871\n",
      "6. for money: 88.693\n",
      "7. is good: 86.541\n",
      "8. is very: 85.362\n",
      "9. one plus: 83.968\n",
      "10. value for: 81.168\n",
      "11. this price: 75.937\n",
      "12. good product: 70.516\n",
      "13. tv is: 69.157\n",
      "14. and sound: 62.952\n",
      "15. in this: 61.982\n",
      "16. nice product: 61.982\n",
      "17. thank you: 57.259\n",
      "18. is not: 55.987\n",
      "19. quality and: 55.987\n",
      "20. good picture: 52.885\n"
     ]
    }
   ],
   "source": [
    "# Convert the 'reviews' column to a list\n",
    "reviews = df['review'].tolist()\n",
    "\n",
    "# Create a CountVectorizer object with bigram tokenization\n",
    "vectorizer = CountVectorizer(ngram_range=(2, 2))\n",
    "X = vectorizer.fit_transform(reviews)\n",
    "tfidf_transformer = TfidfTransformer()\n",
    "tfidf_transformer.fit(X)\n",
    "feature_names = vectorizer.get_feature_names_out()\n",
    "tfidf_sum = np.asarray(X.sum(axis=0)).ravel() * tfidf_transformer.idf_\n",
    "top_idx = tfidf_sum.argsort()[::-1][:20]\n",
    "top_features = [feature_names[i] for i in top_idx]\n",
    "\n",
    "for i, feature in enumerate(top_features):\n",
    "    score = tfidf_sum[top_idx[i]]\n",
    "    print(f\"{i+1}. {feature}: {score:.3f}\")"
   ]
  },
  {
   "cell_type": "code",
   "execution_count": 141,
   "id": "45e4e05f",
   "metadata": {},
   "outputs": [
    {
     "name": "stdout",
     "output_type": "stream",
     "text": [
      "Positive reviews: 237\n",
      "Negative reviews: 46\n",
      "Neutral reviews: 17\n"
     ]
    }
   ],
   "source": [
    "positive_reviews = 0\n",
    "negative_reviews = 0\n",
    "neutral_reviews = 0\n",
    "\n",
    "for i in range(len(df)):\n",
    "    score = df['rating'][i]\n",
    "    if score >= 4:\n",
    "        positive_reviews += 1\n",
    "    elif score <= 2:\n",
    "        negative_reviews += 1\n",
    "    else:\n",
    "        neutral_reviews += 1\n",
    "\n",
    "print(f\"Positive reviews: {positive_reviews}\")\n",
    "print(f\"Negative reviews: {negative_reviews}\")\n",
    "print(f\"Neutral reviews: {neutral_reviews}\")\n"
   ]
  }
 ],
 "metadata": {
  "kernelspec": {
   "display_name": "Python 3 (ipykernel)",
   "language": "python",
   "name": "python3"
  },
  "language_info": {
   "codemirror_mode": {
    "name": "ipython",
    "version": 3
   },
   "file_extension": ".py",
   "mimetype": "text/x-python",
   "name": "python",
   "nbconvert_exporter": "python",
   "pygments_lexer": "ipython3",
   "version": "3.9.12"
  }
 },
 "nbformat": 4,
 "nbformat_minor": 5
}
